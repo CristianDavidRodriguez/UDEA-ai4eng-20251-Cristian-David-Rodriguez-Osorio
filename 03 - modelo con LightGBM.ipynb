{
 "cells": [
  {
   "cell_type": "markdown",
   "id": "39d9f57d",
   "metadata": {},
   "source": [
    "## Instalacion de dependencias"
   ]
  },
  {
   "cell_type": "code",
   "execution_count": 2,
   "id": "deda08b7",
   "metadata": {},
   "outputs": [
    {
     "name": "stdout",
     "output_type": "stream",
     "text": [
      "Requirement already satisfied: pandas in c:\\users\\cristian david\\appdata\\local\\programs\\python\\python313\\lib\\site-packages (2.2.3)\n",
      "Requirement already satisfied: numpy in c:\\users\\cristian david\\appdata\\local\\programs\\python\\python313\\lib\\site-packages (2.2.4)\n",
      "Collecting scikit-learn\n",
      "  Downloading scikit_learn-1.7.0-cp313-cp313-win_amd64.whl.metadata (14 kB)\n",
      "Collecting lightgbm\n",
      "  Downloading lightgbm-4.6.0-py3-none-win_amd64.whl.metadata (17 kB)\n",
      "Collecting matplotlib\n",
      "  Downloading matplotlib-3.10.3-cp313-cp313-win_amd64.whl.metadata (11 kB)\n",
      "Requirement already satisfied: python-dateutil>=2.8.2 in c:\\users\\cristian david\\appdata\\roaming\\python\\python313\\site-packages (from pandas) (2.9.0.post0)\n",
      "Requirement already satisfied: pytz>=2020.1 in c:\\users\\cristian david\\appdata\\local\\programs\\python\\python313\\lib\\site-packages (from pandas) (2025.2)\n",
      "Requirement already satisfied: tzdata>=2022.7 in c:\\users\\cristian david\\appdata\\local\\programs\\python\\python313\\lib\\site-packages (from pandas) (2025.2)\n",
      "Collecting scipy>=1.8.0 (from scikit-learn)\n",
      "  Downloading scipy-1.16.0-cp313-cp313-win_amd64.whl.metadata (60 kB)\n",
      "Collecting joblib>=1.2.0 (from scikit-learn)\n",
      "  Downloading joblib-1.5.1-py3-none-any.whl.metadata (5.6 kB)\n",
      "Collecting threadpoolctl>=3.1.0 (from scikit-learn)\n",
      "  Downloading threadpoolctl-3.6.0-py3-none-any.whl.metadata (13 kB)\n",
      "Collecting contourpy>=1.0.1 (from matplotlib)\n",
      "  Downloading contourpy-1.3.2-cp313-cp313-win_amd64.whl.metadata (5.5 kB)\n",
      "Collecting cycler>=0.10 (from matplotlib)\n",
      "  Downloading cycler-0.12.1-py3-none-any.whl.metadata (3.8 kB)\n",
      "Collecting fonttools>=4.22.0 (from matplotlib)\n",
      "  Downloading fonttools-4.58.4-cp313-cp313-win_amd64.whl.metadata (108 kB)\n",
      "Collecting kiwisolver>=1.3.1 (from matplotlib)\n",
      "  Downloading kiwisolver-1.4.8-cp313-cp313-win_amd64.whl.metadata (6.3 kB)\n",
      "Requirement already satisfied: packaging>=20.0 in c:\\users\\cristian david\\appdata\\roaming\\python\\python313\\site-packages (from matplotlib) (24.2)\n",
      "Collecting pillow>=8 (from matplotlib)\n",
      "  Downloading pillow-11.3.0-cp313-cp313-win_amd64.whl.metadata (9.2 kB)\n",
      "Collecting pyparsing>=2.3.1 (from matplotlib)\n",
      "  Downloading pyparsing-3.2.3-py3-none-any.whl.metadata (5.0 kB)\n",
      "Requirement already satisfied: six>=1.5 in c:\\users\\cristian david\\appdata\\roaming\\python\\python313\\site-packages (from python-dateutil>=2.8.2->pandas) (1.17.0)\n",
      "Downloading scikit_learn-1.7.0-cp313-cp313-win_amd64.whl (10.7 MB)\n",
      "   ---------------------------------------- 0.0/10.7 MB ? eta -:--:--\n",
      "   ------ --------------------------------- 1.8/10.7 MB 9.0 MB/s eta 0:00:01\n",
      "   ------------- -------------------------- 3.7/10.7 MB 9.1 MB/s eta 0:00:01\n",
      "   --------------------- ------------------ 5.8/10.7 MB 9.5 MB/s eta 0:00:01\n",
      "   ----------------------------- ---------- 7.9/10.7 MB 9.7 MB/s eta 0:00:01\n",
      "   -------------------------------------- - 10.2/10.7 MB 9.8 MB/s eta 0:00:01\n",
      "   ---------------------------------------- 10.7/10.7 MB 8.9 MB/s eta 0:00:00\n",
      "Downloading lightgbm-4.6.0-py3-none-win_amd64.whl (1.5 MB)\n",
      "   ---------------------------------------- 0.0/1.5 MB ? eta -:--:--\n",
      "   ---------------------------------------- 1.5/1.5 MB 10.7 MB/s eta 0:00:00\n",
      "Downloading matplotlib-3.10.3-cp313-cp313-win_amd64.whl (8.1 MB)\n",
      "   ---------------------------------------- 0.0/8.1 MB ? eta -:--:--\n",
      "   ----------- ---------------------------- 2.4/8.1 MB 11.8 MB/s eta 0:00:01\n",
      "   ------------------------ --------------- 5.0/8.1 MB 12.0 MB/s eta 0:00:01\n",
      "   ------------------------------------- -- 7.6/8.1 MB 12.5 MB/s eta 0:00:01\n",
      "   ---------------------------------------- 8.1/8.1 MB 11.9 MB/s eta 0:00:00\n",
      "Downloading contourpy-1.3.2-cp313-cp313-win_amd64.whl (223 kB)\n",
      "Downloading cycler-0.12.1-py3-none-any.whl (8.3 kB)\n",
      "Downloading fonttools-4.58.4-cp313-cp313-win_amd64.whl (2.2 MB)\n",
      "   ---------------------------------------- 0.0/2.2 MB ? eta -:--:--\n",
      "   ---------------------------------------- 2.2/2.2 MB 12.4 MB/s eta 0:00:00\n",
      "Downloading joblib-1.5.1-py3-none-any.whl (307 kB)\n",
      "Downloading kiwisolver-1.4.8-cp313-cp313-win_amd64.whl (71 kB)\n",
      "Downloading pillow-11.3.0-cp313-cp313-win_amd64.whl (7.0 MB)\n",
      "   ---------------------------------------- 0.0/7.0 MB ? eta -:--:--\n",
      "   --------------- ------------------------ 2.6/7.0 MB 13.3 MB/s eta 0:00:01\n",
      "   ------------------------------- -------- 5.5/7.0 MB 14.1 MB/s eta 0:00:01\n",
      "   ---------------------------------------- 7.0/7.0 MB 13.4 MB/s eta 0:00:00\n",
      "Downloading pyparsing-3.2.3-py3-none-any.whl (111 kB)\n",
      "Downloading scipy-1.16.0-cp313-cp313-win_amd64.whl (38.4 MB)\n",
      "   ---------------------------------------- 0.0/38.4 MB ? eta -:--:--\n",
      "   --- ------------------------------------ 3.1/38.4 MB 16.0 MB/s eta 0:00:03\n",
      "   ------ --------------------------------- 6.6/38.4 MB 15.6 MB/s eta 0:00:03\n",
      "   --------- ------------------------------ 9.2/38.4 MB 14.7 MB/s eta 0:00:02\n",
      "   ------------- -------------------------- 12.6/38.4 MB 14.9 MB/s eta 0:00:02\n",
      "   ---------------- ----------------------- 16.0/38.4 MB 15.2 MB/s eta 0:00:02\n",
      "   -------------------- ------------------- 19.7/38.4 MB 15.5 MB/s eta 0:00:02\n",
      "   ------------------------ --------------- 23.1/38.4 MB 15.8 MB/s eta 0:00:01\n",
      "   ---------------------------- ----------- 27.3/38.4 MB 16.2 MB/s eta 0:00:01\n",
      "   ------------------------------- -------- 30.1/38.4 MB 16.1 MB/s eta 0:00:01\n",
      "   ----------------------------------- ---- 34.1/38.4 MB 16.3 MB/s eta 0:00:01\n",
      "   ---------------------------------------  38.3/38.4 MB 16.6 MB/s eta 0:00:01\n",
      "   ---------------------------------------- 38.4/38.4 MB 15.7 MB/s eta 0:00:00\n",
      "Downloading threadpoolctl-3.6.0-py3-none-any.whl (18 kB)\n",
      "Installing collected packages: threadpoolctl, scipy, pyparsing, pillow, kiwisolver, joblib, fonttools, cycler, contourpy, scikit-learn, matplotlib, lightgbm\n",
      "Successfully installed contourpy-1.3.2 cycler-0.12.1 fonttools-4.58.4 joblib-1.5.1 kiwisolver-1.4.8 lightgbm-4.6.0 matplotlib-3.10.3 pillow-11.3.0 pyparsing-3.2.3 scikit-learn-1.7.0 scipy-1.16.0 threadpoolctl-3.6.0\n",
      "Note: you may need to restart the kernel to use updated packages.\n"
     ]
    },
    {
     "name": "stderr",
     "output_type": "stream",
     "text": [
      "\n",
      "[notice] A new release of pip is available: 25.0.1 -> 25.1.1\n",
      "[notice] To update, run: python.exe -m pip install --upgrade pip\n"
     ]
    }
   ],
   "source": [
    "%pip install pandas numpy scikit-learn lightgbm matplotlib"
   ]
  },
  {
   "cell_type": "markdown",
   "id": "22defb7e",
   "metadata": {},
   "source": [
    "## Carga de librerias y archivos"
   ]
  },
  {
   "cell_type": "code",
   "execution_count": 3,
   "id": "2eeb90ac",
   "metadata": {},
   "outputs": [],
   "source": [
    "import os\n",
    "import pandas as pd\n",
    "import numpy as np\n",
    "from sklearn.model_selection import train_test_split\n",
    "from sklearn.metrics import accuracy_score, classification_report\n",
    "from sklearn.preprocessing import OneHotEncoder, StandardScaler\n",
    "from sklearn.compose import ColumnTransformer\n",
    "from sklearn.pipeline import Pipeline\n",
    "import lightgbm as lgb\n",
    "\n",
    "# Cargar datos\n",
    "os.chdir(\"C:\\\\Users\\\\Cristian David\\\\Desktop\\\\Todo\\\\U\\\\Modelos\\\\udea-ai-4-eng-20251-pruebas-saber-pro-colombia\")\n",
    "train = pd.read_csv(\"train.csv\")"
   ]
  },
  {
   "cell_type": "markdown",
   "id": "4ac3701b",
   "metadata": {},
   "source": [
    "## Selección de variables y división de datos"
   ]
  },
  {
   "cell_type": "code",
   "execution_count": 3,
   "id": "c59c90ff",
   "metadata": {},
   "outputs": [],
   "source": [
    "categorical_features = [\n",
    "    \"ESTU_VALORMATRICULAUNIVERSIDAD\",\n",
    "    \"ESTU_HORASSEMANATRABAJA\",\n",
    "    \"FAMI_ESTRATOVIVIENDA\",\n",
    "    \"FAMI_EDUCACIONPADRE\",\n",
    "    \"FAMI_EDUCACIONMADRE\",\n",
    "    \"ESTU_PRGM_DEPARTAMENTO\",\n",
    "    \"FAMI_TIENEINTERNET\",\n",
    "    \"ESTU_PAGOMATRICULAPROPIO\",\n",
    "    \"ESTU_PRGM_ACADEMICO\"\n",
    "]\n",
    "\n",
    "# Asegurar que las variables categóricas sean string y sin nulos\n",
    "temp = train.copy()\n",
    "for col in categorical_features:\n",
    "    if col in temp.columns:\n",
    "        temp[col] = temp[col].astype(str).fillna('missing')\n",
    "\n",
    "y = temp[\"RENDIMIENTO_GLOBAL\"]\n",
    "X = temp.drop(columns=[\"RENDIMIENTO_GLOBAL\", \"ID\", \"PERIODO\"])\n",
    "X_train, X_temp, y_train, y_temp = train_test_split(X, y, test_size=0.2, random_state=42, stratify=y)\n",
    "X_val, X_test, y_val, y_test = train_test_split(X_temp, y_temp, test_size=0.125, random_state=42, stratify=y_temp)"
   ]
  },
  {
   "cell_type": "markdown",
   "id": "80e538a2",
   "metadata": {},
   "source": [
    "## Procesamiento para LightGBM"
   ]
  },
  {
   "cell_type": "code",
   "execution_count": 4,
   "id": "d5fec556",
   "metadata": {},
   "outputs": [
    {
     "name": "stdout",
     "output_type": "stream",
     "text": [
      "[LightGBM] [Info] Auto-choosing row-wise multi-threading, the overhead of testing was 0.023510 seconds.\n",
      "You can set `force_row_wise=true` to remove the overhead.\n",
      "And if memory is not enough, you can set `force_col_wise=true`.\n",
      "[LightGBM] [Info] Total Bins 2507\n",
      "[LightGBM] [Info] Number of data points in the train set: 554000, number of used features: 864\n",
      "[LightGBM] [Info] Start training from score -1.371993\n",
      "[LightGBM] [Info] Start training from score -1.387089\n",
      "[LightGBM] [Info] Start training from score -1.395033\n",
      "[LightGBM] [Info] Start training from score -1.391216\n"
     ]
    },
    {
     "name": "stderr",
     "output_type": "stream",
     "text": [
      "c:\\Users\\lopez\\AppData\\Local\\Programs\\Python\\Python313\\Lib\\site-packages\\sklearn\\utils\\validation.py:2749: UserWarning: X does not have valid feature names, but LGBMClassifier was fitted with feature names\n",
      "  warnings.warn(\n"
     ]
    },
    {
     "name": "stdout",
     "output_type": "stream",
     "text": [
      "Accuracy validación: 0.4327\n",
      "              precision    recall  f1-score   support\n",
      "\n",
      "        alto       0.56      0.63      0.59     30733\n",
      "        bajo       0.46      0.55      0.50     30272\n",
      "  medio-alto       0.32      0.27      0.29     30034\n",
      "  medio-bajo       0.33      0.28      0.30     30148\n",
      "\n",
      "    accuracy                           0.43    121187\n",
      "   macro avg       0.42      0.43      0.42    121187\n",
      "weighted avg       0.42      0.43      0.42    121187\n",
      "\n"
     ]
    },
    {
     "name": "stderr",
     "output_type": "stream",
     "text": [
      "c:\\Users\\lopez\\AppData\\Local\\Programs\\Python\\Python313\\Lib\\site-packages\\sklearn\\utils\\validation.py:2749: UserWarning: X does not have valid feature names, but LGBMClassifier was fitted with feature names\n",
      "  warnings.warn(\n"
     ]
    },
    {
     "name": "stdout",
     "output_type": "stream",
     "text": [
      "Accuracy test: 0.4308\n",
      "              precision    recall  f1-score   support\n",
      "\n",
      "        alto       0.56      0.62      0.59      4391\n",
      "        bajo       0.46      0.54      0.50      4325\n",
      "  medio-alto       0.33      0.28      0.30      4290\n",
      "  medio-bajo       0.32      0.28      0.30      4307\n",
      "\n",
      "    accuracy                           0.43     17313\n",
      "   macro avg       0.42      0.43      0.42     17313\n",
      "weighted avg       0.42      0.43      0.42     17313\n",
      "\n"
     ]
    }
   ],
   "source": [
    "# Identificar correctamente las columnas numéricas (excluyendo categóricas y asegurando que existan en X_train)\n",
    "numeric_features = [col for col in X_train.select_dtypes(include=[np.number]).columns if col not in categorical_features]\n",
    "\n",
    "preprocessor = ColumnTransformer([\n",
    "    (\"num\", Pipeline([\n",
    "        (\"scaler\", StandardScaler())\n",
    "    ]), numeric_features),\n",
    "    (\"cat\", OneHotEncoder(handle_unknown=\"ignore\", sparse_output=False), categorical_features)\n",
    "])\n",
    "\n",
    "# Creación del pipeline\n",
    "pipeline = Pipeline([\n",
    "    (\"preprocessor\", preprocessor),\n",
    "    (\"classifier\", lgb.LGBMClassifier(n_estimators=2000, learning_rate=0.1, random_state=42))\n",
    "])\n",
    "pipeline.fit(X_train, y_train)\n",
    "\n",
    "# Evaluación del modelo\n",
    "y_val_pred = pipeline.predict(X_val)\n",
    "val_accuracy = accuracy_score(y_val, y_val_pred)\n",
    "print(f\"Accuracy validación: {val_accuracy:.4f}\")\n",
    "print(classification_report(y_val, y_val_pred))\n",
    "\n",
    "y_test_pred = pipeline.predict(X_test)\n",
    "test_accuracy = accuracy_score(y_test, y_test_pred)\n",
    "print(f\"Accuracy test: {test_accuracy:.4f}\")\n",
    "print(classification_report(y_test, y_test_pred))\n"
   ]
  },
  {
   "cell_type": "markdown",
   "id": "7da2ef99",
   "metadata": {},
   "source": [
    "## Kaggle Submission"
   ]
  },
  {
   "cell_type": "markdown",
   "id": "ff9f36cd",
   "metadata": {},
   "source": [
    "### Carga de datos"
   ]
  },
  {
   "cell_type": "code",
   "execution_count": 1,
   "id": "a5f6e15e",
   "metadata": {},
   "outputs": [
    {
     "ename": "NameError",
     "evalue": "name 'pd' is not defined",
     "output_type": "error",
     "traceback": [
      "\u001b[31m---------------------------------------------------------------------------\u001b[39m",
      "\u001b[31mNameError\u001b[39m                                 Traceback (most recent call last)",
      "\u001b[36mCell\u001b[39m\u001b[36m \u001b[39m\u001b[32mIn[1]\u001b[39m\u001b[32m, line 1\u001b[39m\n\u001b[32m----> \u001b[39m\u001b[32m1\u001b[39m test_data = \u001b[43mpd\u001b[49m.read_csv(\u001b[33m\"\u001b[39m\u001b[33mtest.csv\u001b[39m\u001b[33m\"\u001b[39m)\n",
      "\u001b[31mNameError\u001b[39m: name 'pd' is not defined"
     ]
    }
   ],
   "source": [
    "test_data = pd.read_csv(\"test.csv\")"
   ]
  },
  {
   "cell_type": "code",
   "execution_count": 6,
   "id": "e4920f0a",
   "metadata": {},
   "outputs": [
    {
     "name": "stderr",
     "output_type": "stream",
     "text": [
      "c:\\Users\\lopez\\AppData\\Local\\Programs\\Python\\Python313\\Lib\\site-packages\\sklearn\\utils\\validation.py:2749: UserWarning: X does not have valid feature names, but LGBMClassifier was fitted with feature names\n",
      "  warnings.warn(\n"
     ]
    },
    {
     "name": "stdout",
     "output_type": "stream",
     "text": [
      "Archivo de submission generado: submission_lightgbm.csv\n",
      "       ID RENDIMIENTO_GLOBAL\n",
      "0  550236               bajo\n",
      "1   98545         medio-alto\n",
      "2  499179               alto\n",
      "3  782980               bajo\n",
      "4  785185               bajo\n"
     ]
    }
   ],
   "source": [
    "for col in categorical_features:\n",
    "    if col in test_data.columns:\n",
    "        test_data[col] = test_data[col].astype(str).fillna('missing')\n",
    "X_test_kaggle = test_data.drop(columns=[\"ID\", \"PERIODO\"], errors='ignore')\n",
    "predictions = pipeline.predict(X_test_kaggle)\n",
    "submission_df = test_data[[\"ID\"]].copy()\n",
    "submission_df[\"RENDIMIENTO_GLOBAL\"] = predictions\n",
    "submission_df.to_csv(\"submission_lightgbm.csv\", index=False)\n",
    "print(\"Archivo de submission generado: submission_lightgbm.csv\")\n",
    "print(submission_df.head())"
   ]
  }
 ],
 "metadata": {
  "kernelspec": {
   "display_name": "Python 3",
   "language": "python",
   "name": "python3"
  },
  "language_info": {
   "codemirror_mode": {
    "name": "ipython",
    "version": 3
   },
   "file_extension": ".py",
   "mimetype": "text/x-python",
   "name": "python",
   "nbconvert_exporter": "python",
   "pygments_lexer": "ipython3",
   "version": "3.13.3"
  }
 },
 "nbformat": 4,
 "nbformat_minor": 5
}
